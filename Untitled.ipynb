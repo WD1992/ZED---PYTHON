{
 "cells": [
  {
   "cell_type": "markdown",
   "metadata": {},
   "source": [
    "Importy"
   ]
  },
  {
   "cell_type": "code",
   "execution_count": null,
   "metadata": {},
   "outputs": [],
   "source": [
    "import pandas as pd\n",
    "import datetime\n",
    "from sklearn.naive_bayes import GaussianNB  "
   ]
  },
  {
   "cell_type": "markdown",
   "metadata": {},
   "source": [
    "Opracowanie zbioru treningowego"
   ]
  },
  {
   "cell_type": "code",
   "execution_count": null,
   "metadata": {},
   "outputs": [],
   "source": [
    "train = pd.read_csv('train.csv')\n",
    "hour = train[\"data\"].values\n",
    "hour = [my_str.split(\" \")[1] for my_str in hour]\n",
    "hour = [my_str.split(\":\")[0] for my_str in hour]\n",
    "hour = list(map(float,[my_str.split(\":\")[0] for my_str in hour]))\n",
    "\n",
    "\n",
    "month = train[\"data\"].values\n",
    "month = list(map(float,[my_str.split(\"/\")[0] for my_str in month]))\n",
    "\n",
    "train[\"hour\"] = hour\n",
    "train[\"month\"] = month\n",
    "train[\"kwh\"] = list(map(int,train[\"kwh\"]*1000))\n",
    "train[\"irri_pvgis_mod\"] = [x+0.03 for x in train[\"irri_pvgis_mod\"]]\n",
    "train=train.drop(columns=['anno','data','id'])"
   ]
  },
  {
   "cell_type": "markdown",
   "metadata": {},
   "source": [
    "Opracowanie zbioru testowego"
   ]
  },
  {
   "cell_type": "code",
   "execution_count": null,
   "metadata": {},
   "outputs": [],
   "source": [
    "test = pd.read_csv('test.csv')\n",
    "hour = test[\"data\"].values\n",
    "hour = [my_str.split(\" \")[1] for my_str in hour]\n",
    "hour = [my_str.split(\":\")[0] for my_str in hour]\n",
    "hour = list(map(float,[my_str.split(\":\")[0] for my_str in hour]))\n",
    "\n",
    "month = test[\"data\"].values\n",
    "month = list(map(float,[my_str.split(\"/\")[0] for my_str in month]))\n",
    "\n",
    "test[\"hour\"] = hour\n",
    "test[\"month\"] = month\n",
    "test[\"irri_pvgis_mod\"] = [x+0.03 for x in test[\"irri_pvgis_mod\"]]\n",
    "test=test.drop(columns=['anno','data','id'])"
   ]
  },
  {
   "cell_type": "markdown",
   "metadata": {},
   "source": [
    "Predykcja i zapisanie wyniku"
   ]
  },
  {
   "cell_type": "code",
   "execution_count": null,
   "metadata": {},
   "outputs": [],
   "source": [
    "gnb = GaussianNB()\n",
    "y_pred = gnb.fit(train.loc[:54187, train.columns != 'kwh'],train.loc[:54187,'kwh'])\n",
    "temp = y_pred.predict(test)\n",
    "test = pd.read_csv('test.csv')\n",
    "wynik = pd.DataFrame(test, columns = ['id'])\n",
    "wynik[\"Predicted\"] = [x/1000.0for x in temp]\n",
    "wynik.to_csv('wynik.csv', index=False)\n",
    "\n",
    "\n"
   ]
  }
 ],
 "metadata": {
  "kernelspec": {
   "display_name": "Python 3",
   "language": "python",
   "name": "python3"
  },
  "language_info": {
   "codemirror_mode": {
    "name": "ipython",
    "version": 3
   },
   "file_extension": ".py",
   "mimetype": "text/x-python",
   "name": "python",
   "nbconvert_exporter": "python",
   "pygments_lexer": "ipython3",
   "version": "3.6.7"
  }
 },
 "nbformat": 4,
 "nbformat_minor": 2
}
